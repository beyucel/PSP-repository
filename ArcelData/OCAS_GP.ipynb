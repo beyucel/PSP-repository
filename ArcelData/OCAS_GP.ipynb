{
 "cells": [
  {
   "cell_type": "code",
   "execution_count": 1,
   "metadata": {},
   "outputs": [],
   "source": [
    "from scipy.io import loadmat\n",
    "import numpy as np"
   ]
  },
  {
   "cell_type": "code",
   "execution_count": 2,
   "metadata": {},
   "outputs": [],
   "source": [
    "data = loadmat('DataforFit.mat')\n"
   ]
  },
  {
   "cell_type": "code",
   "execution_count": 3,
   "metadata": {},
   "outputs": [],
   "source": [
    "y=data['TrainProperty02']"
   ]
  },
  {
   "cell_type": "code",
   "execution_count": 4,
   "metadata": {},
   "outputs": [],
   "source": [
    "X=data['averagePcScores']"
   ]
  },
  {
   "cell_type": "code",
   "execution_count": 5,
   "metadata": {},
   "outputs": [],
   "source": [
    "\n",
    "from sklearn.gaussian_process import GaussianProcessRegressor\n",
    "from sklearn.gaussian_process.kernels import ConstantKernel, RBF"
   ]
  },
  {
   "cell_type": "code",
   "execution_count": 6,
   "metadata": {},
   "outputs": [
    {
     "data": {
      "text/plain": [
       "GaussianProcessRegressor(alpha=0.25, copy_X_train=True,\n",
       "             kernel=1**2 * RBF(length_scale=5), n_restarts_optimizer=0,\n",
       "             normalize_y=False, optimizer='fmin_l_bfgs_b',\n",
       "             random_state=None)"
      ]
     },
     "execution_count": 6,
     "metadata": {},
     "output_type": "execute_result"
    }
   ],
   "source": [
    "noise=0.5\n",
    "rbf = ConstantKernel(1.0) * RBF(length_scale=5.0)\n",
    "gpr = GaussianProcessRegressor(kernel=rbf, alpha=noise**2)\n",
    "\n",
    "\n",
    "# Reuse training data from previous 1D example\n",
    "gpr.fit(X, y)\n",
    "# Compute posterior predictive mean and covariance\n",
    "mu_s, cov_s = gpr.predict(X, return_cov=True)\n"
   ]
  },
  {
   "cell_type": "code",
   "execution_count": 7,
   "metadata": {},
   "outputs": [],
   "source": [
    "# Compute posterior predictive mean and covariance\n",
    "mu_s, cov_s = gpr.predict(X, return_cov=True)\n"
   ]
  },
  {
   "cell_type": "code",
   "execution_count": 8,
   "metadata": {},
   "outputs": [],
   "source": [
    "# Obtain optimized kernel parameters\n",
    "l = gpr.kernel_.k2.get_params()['length_scale']\n",
    "sigma_f = np.sqrt(gpr.kernel_.k1.get_params()['constant_value'])"
   ]
  },
  {
   "cell_type": "code",
   "execution_count": 9,
   "metadata": {},
   "outputs": [
    {
     "data": {
      "text/plain": [
       "array([[641.75589561],\n",
       "       [586.54053365],\n",
       "       [602.37099407],\n",
       "       [536.06615983],\n",
       "       [511.05922235],\n",
       "       [766.78208304],\n",
       "       [700.06774983],\n",
       "       [684.92328769],\n",
       "       [649.95337512],\n",
       "       [648.25537936],\n",
       "       [601.22549694],\n",
       "       [594.32451419],\n",
       "       [583.01104247],\n",
       "       [574.53656366],\n",
       "       [862.95534261],\n",
       "       [676.47630881]])"
      ]
     },
     "execution_count": 9,
     "metadata": {},
     "output_type": "execute_result"
    }
   ],
   "source": [
    "mu_s"
   ]
  },
  {
   "cell_type": "code",
   "execution_count": 10,
   "metadata": {},
   "outputs": [
    {
     "data": {
      "text/plain": [
       "array([[641.7575],\n",
       "       [586.542 ],\n",
       "       [602.3725],\n",
       "       [536.0675],\n",
       "       [511.0605],\n",
       "       [766.784 ],\n",
       "       [700.0695],\n",
       "       [684.925 ],\n",
       "       [649.955 ],\n",
       "       [648.257 ],\n",
       "       [601.227 ],\n",
       "       [594.326 ],\n",
       "       [583.0125],\n",
       "       [574.538 ],\n",
       "       [862.9575],\n",
       "       [676.478 ]])"
      ]
     },
     "execution_count": 10,
     "metadata": {},
     "output_type": "execute_result"
    }
   ],
   "source": [
    "y"
   ]
  },
  {
   "cell_type": "code",
   "execution_count": 11,
   "metadata": {},
   "outputs": [
    {
     "data": {
      "text/plain": [
       "9.999999999999997e-06"
      ]
     },
     "execution_count": 11,
     "metadata": {},
     "output_type": "execute_result"
    }
   ],
   "source": [
    "l"
   ]
  },
  {
   "cell_type": "code",
   "execution_count": 12,
   "metadata": {},
   "outputs": [
    {
     "data": {
      "text/plain": [
       "316.22776601683796"
      ]
     },
     "execution_count": 12,
     "metadata": {},
     "output_type": "execute_result"
    }
   ],
   "source": [
    "sigma_f"
   ]
  },
  {
   "cell_type": "code",
   "execution_count": null,
   "metadata": {},
   "outputs": [],
   "source": []
  },
  {
   "cell_type": "code",
   "execution_count": null,
   "metadata": {},
   "outputs": [],
   "source": [
    "\n",
    "noise=0.5\n",
    "rbf = ConstantKernel(1.0) * RBF(length_scale=5.0)\n",
    "gpr = GaussianProcessRegressor(kernel=rbf, alpha=noise**2)\n",
    "\n",
    "\n",
    "# Reuse training data from previous 1D example\n",
    "gpr.fit(X, y)\n",
    "# Compute posterior predictive mean and covariance\n",
    "mu_s, cov_s = gpr.predict(X, return_cov=True)\n"
   ]
  }
 ],
 "metadata": {
  "kernelspec": {
   "display_name": "Python 3",
   "language": "python",
   "name": "python3"
  },
  "language_info": {
   "codemirror_mode": {
    "name": "ipython",
    "version": 3
   },
   "file_extension": ".py",
   "mimetype": "text/x-python",
   "name": "python",
   "nbconvert_exporter": "python",
   "pygments_lexer": "ipython3",
   "version": "3.6.7"
  }
 },
 "nbformat": 4,
 "nbformat_minor": 2
}
